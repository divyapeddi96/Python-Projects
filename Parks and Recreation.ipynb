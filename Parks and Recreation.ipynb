{
 "cells": [
  {
   "cell_type": "code",
   "execution_count": 1,
   "metadata": {
    "id": "d2wiLo4vJgqI"
   },
   "outputs": [],
   "source": [
    "import pandas as pd\n",
    "import numpy as np\n"
   ]
  },
  {
   "cell_type": "code",
   "execution_count": 2,
   "metadata": {
    "id": "2prTYLzXJ2Gt"
   },
   "outputs": [],
   "source": [
    "\n",
    "df = pd.read_csv(\"C:\\\\Users\\Ramya\\OneDrive\\Desktop\\dataset.csv\")"
   ]
  },
  {
   "cell_type": "code",
   "execution_count": 3,
   "metadata": {
    "colab": {
     "base_uri": "https://localhost:8080/",
     "height": 228
    },
    "id": "hj9J-cLgQcFB",
    "outputId": "0d29b013-b982-4242-bd50-59a1bc3b972d"
   },
   "outputs": [
    {
     "data": {
      "text/html": [
       "<div>\n",
       "<style scoped>\n",
       "    .dataframe tbody tr th:only-of-type {\n",
       "        vertical-align: middle;\n",
       "    }\n",
       "\n",
       "    .dataframe tbody tr th {\n",
       "        vertical-align: top;\n",
       "    }\n",
       "\n",
       "    .dataframe thead th {\n",
       "        text-align: right;\n",
       "    }\n",
       "</style>\n",
       "<table border=\"1\" class=\"dataframe\">\n",
       "  <thead>\n",
       "    <tr style=\"text-align: right;\">\n",
       "      <th></th>\n",
       "      <th>Zone</th>\n",
       "      <th>Facility Class</th>\n",
       "      <th>Facility Location</th>\n",
       "      <th>Facility Code</th>\n",
       "      <th>Facility</th>\n",
       "      <th>Status</th>\n",
       "      <th>Reservation Type</th>\n",
       "      <th>BeginTime</th>\n",
       "      <th>EndTime</th>\n",
       "      <th>Begin Date</th>\n",
       "      <th>End Date</th>\n",
       "      <th>Headcount</th>\n",
       "    </tr>\n",
       "  </thead>\n",
       "  <tbody>\n",
       "    <tr>\n",
       "      <th>0</th>\n",
       "      <td>2013</td>\n",
       "      <td>BDEF</td>\n",
       "      <td>CARN</td>\n",
       "      <td>CAREF</td>\n",
       "      <td>Entire Facility</td>\n",
       "      <td>Firm</td>\n",
       "      <td>Facility</td>\n",
       "      <td>9:00:00 AM</td>\n",
       "      <td>12:30:00 PM</td>\n",
       "      <td>1/6/2013</td>\n",
       "      <td>1/6/2013</td>\n",
       "      <td>100</td>\n",
       "    </tr>\n",
       "    <tr>\n",
       "      <th>1</th>\n",
       "      <td>2013</td>\n",
       "      <td>BDMUL</td>\n",
       "      <td>CARN</td>\n",
       "      <td>HRTG</td>\n",
       "      <td>Heritage Room l</td>\n",
       "      <td>Firm</td>\n",
       "      <td>Facility</td>\n",
       "      <td>5:00:00 PM</td>\n",
       "      <td>11:00:00 PM</td>\n",
       "      <td>1/6/2013</td>\n",
       "      <td>1/6/2013</td>\n",
       "      <td>100</td>\n",
       "    </tr>\n",
       "  </tbody>\n",
       "</table>\n",
       "</div>"
      ],
      "text/plain": [
       "   Zone Facility Class Facility Location Facility Code         Facility  \\\n",
       "0  2013           BDEF              CARN         CAREF  Entire Facility   \n",
       "1  2013          BDMUL              CARN          HRTG  Heritage Room l   \n",
       "\n",
       "  Status Reservation Type   BeginTime      EndTime Begin Date  End Date  \\\n",
       "0   Firm         Facility  9:00:00 AM  12:30:00 PM   1/6/2013  1/6/2013   \n",
       "1   Firm         Facility  5:00:00 PM  11:00:00 PM   1/6/2013  1/6/2013   \n",
       "\n",
       "   Headcount  \n",
       "0        100  \n",
       "1        100  "
      ]
     },
     "execution_count": 3,
     "metadata": {},
     "output_type": "execute_result"
    }
   ],
   "source": [
    "df.head(2)"
   ]
  },
  {
   "cell_type": "code",
   "execution_count": 4,
   "metadata": {
    "id": "DJnvlJtdX31f"
   },
   "outputs": [],
   "source": [
    "import pandas as pd\n",
    "import numpy as np\n",
    "from keras.models import Sequential\n",
    "from keras.layers import Dense, LSTM, Dropout\n",
    "from sklearn.preprocessing import MinMaxScaler\n",
    "\n",
    "# Load the dataset\n",
    "\n",
    "\n",
    "# Preprocess the data\n",
    "df = df[['Begin Date', 'Headcount']] # Select relevant features\n",
    "df['Begin Date'] = pd.to_datetime(df['Begin Date']) # Convert Begin Date to datetime\n",
    "df = df.groupby('Begin Date')['Headcount'].sum().reset_index() # Aggregate Headcount by date\n",
    "df.set_index('Begin Date', inplace=True) # Set Begin Date as index\n",
    "\n",
    "# Split the data into training and testing sets\n",
    "#train_size = int(len(df) * 0.67)\n",
    "#train_data = df.iloc[:train_size]\n",
    "#test_data = df.iloc[train_size:]\n",
    "\n",
    "# Split the data into training and testing sets\n",
    "train_data = df.loc[:'2020-12-31']\n",
    "test_data = df.loc['2021-01-01':]\n",
    "\n"
   ]
  },
  {
   "cell_type": "code",
   "execution_count": 5,
   "metadata": {
    "colab": {
     "base_uri": "https://localhost:8080/",
     "height": 455
    },
    "id": "XqqFX09dX6Mp",
    "outputId": "8b83d546-98fc-4827-8893-0b7dfdf3315f"
   },
   "outputs": [
    {
     "data": {
      "text/html": [
       "<div>\n",
       "<style scoped>\n",
       "    .dataframe tbody tr th:only-of-type {\n",
       "        vertical-align: middle;\n",
       "    }\n",
       "\n",
       "    .dataframe tbody tr th {\n",
       "        vertical-align: top;\n",
       "    }\n",
       "\n",
       "    .dataframe thead th {\n",
       "        text-align: right;\n",
       "    }\n",
       "</style>\n",
       "<table border=\"1\" class=\"dataframe\">\n",
       "  <thead>\n",
       "    <tr style=\"text-align: right;\">\n",
       "      <th></th>\n",
       "      <th>Headcount</th>\n",
       "    </tr>\n",
       "    <tr>\n",
       "      <th>Begin Date</th>\n",
       "      <th></th>\n",
       "    </tr>\n",
       "  </thead>\n",
       "  <tbody>\n",
       "    <tr>\n",
       "      <th>2013-01-01</th>\n",
       "      <td>20</td>\n",
       "    </tr>\n",
       "    <tr>\n",
       "      <th>2013-01-02</th>\n",
       "      <td>50</td>\n",
       "    </tr>\n",
       "    <tr>\n",
       "      <th>2013-01-03</th>\n",
       "      <td>57</td>\n",
       "    </tr>\n",
       "    <tr>\n",
       "      <th>2013-01-04</th>\n",
       "      <td>70</td>\n",
       "    </tr>\n",
       "    <tr>\n",
       "      <th>2013-01-05</th>\n",
       "      <td>360</td>\n",
       "    </tr>\n",
       "    <tr>\n",
       "      <th>...</th>\n",
       "      <td>...</td>\n",
       "    </tr>\n",
       "    <tr>\n",
       "      <th>2020-12-27</th>\n",
       "      <td>30</td>\n",
       "    </tr>\n",
       "    <tr>\n",
       "      <th>2020-12-28</th>\n",
       "      <td>0</td>\n",
       "    </tr>\n",
       "    <tr>\n",
       "      <th>2020-12-29</th>\n",
       "      <td>0</td>\n",
       "    </tr>\n",
       "    <tr>\n",
       "      <th>2020-12-30</th>\n",
       "      <td>30</td>\n",
       "    </tr>\n",
       "    <tr>\n",
       "      <th>2020-12-31</th>\n",
       "      <td>16</td>\n",
       "    </tr>\n",
       "  </tbody>\n",
       "</table>\n",
       "<p>2917 rows × 1 columns</p>\n",
       "</div>"
      ],
      "text/plain": [
       "            Headcount\n",
       "Begin Date           \n",
       "2013-01-01         20\n",
       "2013-01-02         50\n",
       "2013-01-03         57\n",
       "2013-01-04         70\n",
       "2013-01-05        360\n",
       "...               ...\n",
       "2020-12-27         30\n",
       "2020-12-28          0\n",
       "2020-12-29          0\n",
       "2020-12-30         30\n",
       "2020-12-31         16\n",
       "\n",
       "[2917 rows x 1 columns]"
      ]
     },
     "execution_count": 5,
     "metadata": {},
     "output_type": "execute_result"
    }
   ],
   "source": [
    "train_data"
   ]
  },
  {
   "cell_type": "code",
   "execution_count": 6,
   "metadata": {
    "id": "9nfAk8wVdEi_"
   },
   "outputs": [],
   "source": [
    "# Normalize the data\n",
    "scaler = MinMaxScaler(feature_range=(0, 1))\n",
    "train_data_scaled = scaler.fit_transform(train_data.values.reshape(-1, 1))\n",
    "test_data_scaled = scaler.transform(test_data.values.reshape(-1, 1))\n",
    "\n",
    "# Create sequences of data for LSTM\n",
    "def create_sequences(data, seq_length):\n",
    "    X = []\n",
    "    y = []\n",
    "    for i in range(seq_length, len(data)):\n",
    "        X.append(data[i-seq_length:i, 0])\n",
    "        y.append(data[i, 0])\n",
    "    X = np.array(X)\n",
    "    y = np.array(y)\n",
    "    return X, y\n",
    "\n",
    "seq_length = 100 # Number of time steps to look back\n",
    "X_train, y_train = create_sequences(train_data_scaled, seq_length)\n",
    "X_test, y_test = create_sequences(test_data_scaled, seq_length)"
   ]
  },
  {
   "cell_type": "code",
   "execution_count": 71,
   "metadata": {
    "colab": {
     "base_uri": "https://localhost:8080/"
    },
    "id": "jKYf3Rfadczd",
    "outputId": "43648a7c-6907-4807-867a-61a870db066f"
   },
   "outputs": [
    {
     "name": "stdout",
     "output_type": "stream",
     "text": [
      "Epoch 1/50\n",
      "45/45 [==============================] - 17s 229ms/step - loss: 0.0043\n",
      "Epoch 2/50\n",
      "45/45 [==============================] - 9s 208ms/step - loss: 0.0042\n",
      "Epoch 3/50\n",
      "45/45 [==============================] - 10s 234ms/step - loss: 0.0042\n",
      "Epoch 4/50\n",
      "45/45 [==============================] - 8s 182ms/step - loss: 0.0042\n",
      "Epoch 5/50\n",
      "45/45 [==============================] - 9s 206ms/step - loss: 0.0043\n",
      "Epoch 6/50\n",
      "45/45 [==============================] - 9s 208ms/step - loss: 0.0042\n",
      "Epoch 7/50\n",
      "45/45 [==============================] - 8s 184ms/step - loss: 0.0042\n",
      "Epoch 8/50\n",
      "45/45 [==============================] - 9s 210ms/step - loss: 0.0046\n",
      "Epoch 9/50\n",
      "45/45 [==============================] - 10s 213ms/step - loss: 0.0046\n",
      "Epoch 10/50\n",
      "45/45 [==============================] - 10s 231ms/step - loss: 0.0042\n",
      "Epoch 11/50\n",
      "45/45 [==============================] - 8s 185ms/step - loss: 0.0042\n",
      "Epoch 12/50\n",
      "45/45 [==============================] - 9s 208ms/step - loss: 0.0041\n",
      "Epoch 13/50\n",
      "45/45 [==============================] - 11s 237ms/step - loss: 0.0042\n",
      "Epoch 14/50\n",
      "45/45 [==============================] - 8s 182ms/step - loss: 0.0041\n",
      "Epoch 15/50\n",
      "45/45 [==============================] - 9s 210ms/step - loss: 0.0042\n",
      "Epoch 16/50\n",
      "45/45 [==============================] - 10s 213ms/step - loss: 0.0042\n",
      "Epoch 17/50\n",
      "45/45 [==============================] - 9s 202ms/step - loss: 0.0042\n",
      "Epoch 18/50\n",
      "45/45 [==============================] - 10s 215ms/step - loss: 0.0041\n",
      "Epoch 19/50\n",
      "45/45 [==============================] - 9s 208ms/step - loss: 0.0042\n",
      "Epoch 20/50\n",
      "45/45 [==============================] - 9s 212ms/step - loss: 0.0041\n",
      "Epoch 21/50\n",
      "45/45 [==============================] - 8s 183ms/step - loss: 0.0042\n",
      "Epoch 22/50\n",
      "45/45 [==============================] - 10s 224ms/step - loss: 0.0041\n",
      "Epoch 23/50\n",
      "45/45 [==============================] - 11s 236ms/step - loss: 0.0040\n",
      "Epoch 24/50\n",
      "45/45 [==============================] - 9s 210ms/step - loss: 0.0040\n",
      "Epoch 25/50\n",
      "45/45 [==============================] - 8s 185ms/step - loss: 0.0041\n",
      "Epoch 26/50\n",
      "45/45 [==============================] - 9s 208ms/step - loss: 0.0041\n",
      "Epoch 27/50\n",
      "45/45 [==============================] - 11s 238ms/step - loss: 0.0040\n",
      "Epoch 28/50\n",
      "45/45 [==============================] - 11s 236ms/step - loss: 0.0039\n",
      "Epoch 29/50\n",
      "45/45 [==============================] - 8s 183ms/step - loss: 0.0040\n",
      "Epoch 30/50\n",
      "45/45 [==============================] - 9s 209ms/step - loss: 0.0040\n",
      "Epoch 31/50\n",
      "45/45 [==============================] - 9s 208ms/step - loss: 0.0039\n",
      "Epoch 32/50\n",
      "45/45 [==============================] - 8s 183ms/step - loss: 0.0038\n",
      "Epoch 33/50\n",
      "45/45 [==============================] - 11s 239ms/step - loss: 0.0039\n",
      "Epoch 34/50\n",
      "45/45 [==============================] - 9s 209ms/step - loss: 0.0037\n",
      "Epoch 35/50\n",
      "45/45 [==============================] - 9s 210ms/step - loss: 0.0038\n",
      "Epoch 36/50\n",
      "45/45 [==============================] - 8s 185ms/step - loss: 0.0041\n",
      "Epoch 37/50\n",
      "45/45 [==============================] - 9s 211ms/step - loss: 0.0037\n",
      "Epoch 38/50\n",
      "45/45 [==============================] - 11s 244ms/step - loss: 0.0038\n",
      "Epoch 39/50\n",
      "45/45 [==============================] - 8s 188ms/step - loss: 0.0039\n",
      "Epoch 40/50\n",
      "45/45 [==============================] - 9s 205ms/step - loss: 0.0037\n",
      "Epoch 41/50\n",
      "45/45 [==============================] - 10s 212ms/step - loss: 0.0037\n",
      "Epoch 42/50\n",
      "45/45 [==============================] - 9s 210ms/step - loss: 0.0038\n",
      "Epoch 43/50\n",
      "45/45 [==============================] - 8s 187ms/step - loss: 0.0038\n",
      "Epoch 44/50\n",
      "45/45 [==============================] - 11s 238ms/step - loss: 0.0036\n",
      "Epoch 45/50\n",
      "45/45 [==============================] - 9s 211ms/step - loss: 0.0037\n",
      "Epoch 46/50\n",
      "45/45 [==============================] - 8s 185ms/step - loss: 0.0034\n",
      "Epoch 47/50\n",
      "45/45 [==============================] - 9s 208ms/step - loss: 0.0034\n",
      "Epoch 48/50\n",
      "45/45 [==============================] - 11s 239ms/step - loss: 0.0034\n",
      "Epoch 49/50\n",
      "45/45 [==============================] - 10s 213ms/step - loss: 0.0038\n",
      "Epoch 50/50\n",
      "45/45 [==============================] - 8s 188ms/step - loss: 0.0033\n",
      "89/89 [==============================] - 5s 42ms/step - loss: 0.0031\n",
      "20/20 [==============================] - 1s 48ms/step - loss: 7.6031e-04\n",
      "Train loss: 0.0031482151243835688\n",
      "Test loss: 0.0007603137637488544\n"
     ]
    }
   ],
   "source": [
    "# Build the LSTM model\n",
    "model = Sequential()\n",
    "model.add(LSTM(units=50, return_sequences=True, input_shape=(X_train.shape[1], 1)))\n",
    "model.add(Dropout(0.5))\n",
    "model.add(LSTM(units=50, return_sequences=True))\n",
    "model.add(Dropout(0.5))\n",
    "model.add(LSTM(units=50))\n",
    "model.add(Dropout(0.5))\n",
    "model.add(Dense(units=1))\n",
    "\n",
    "model.compile(optimizer='adam', loss='mean_squared_error')\n",
    "\n",
    "# Train the model\n",
    "model.fit(X_train, y_train, epochs=50, batch_size=64)\n",
    "\n",
    "# Evaluate the model\n",
    "train_loss = model.evaluate(X_train, y_train)\n",
    "test_loss = model.evaluate(X_test, y_test)\n",
    "print('Train loss:', train_loss)\n",
    "print('Test loss:', test_loss)"
   ]
  },
  {
   "cell_type": "code",
   "execution_count": 72,
   "metadata": {
    "colab": {
     "base_uri": "https://localhost:8080/",
     "height": 1000
    },
    "id": "16Q_Uvj1js0L",
    "outputId": "b750813d-1cde-4716-dc27-5515ad0e814b"
   },
   "outputs": [
    {
     "name": "stdout",
     "output_type": "stream",
     "text": [
      "89/89 [==============================] - 6s 43ms/step\n",
      "20/20 [==============================] - 1s 44ms/step\n"
     ]
    },
    {
     "data": {
      "image/png": "[encoded data removed]",
      "text/plain": [
       "<Figure size 1000x600 with 1 Axes>"
      ]
     },
     "metadata": {},
     "output_type": "display_data"
    },
    {
     "data": {
      "image/png": "[encoded data removed]",
      "text/plain": [
       "<Figure size 1000x600 with 1 Axes>"
      ]
     },
     "metadata": {},
     "output_type": "display_data"
    }
   ],
   "source": [
    "# Convert dates to datetime format\n",
    "train_dates = pd.to_datetime(train_data.index)\n",
    "test_dates = pd.to_datetime(test_data.index)\n",
    "\n",
    "# Make predictions\n",
    "train_predict = model.predict(X_train)\n",
    "test_predict = model.predict(X_test)\n",
    "\n",
    "# Invert predictions back to original scale\n",
    "train_predict = scaler.inverse_transform(train_predict)\n",
    "y_train = scaler.inverse_transform([y_train])\n",
    "test_predict = scaler.inverse_transform(test_predict)\n",
    "y_test = scaler.inverse_transform([y_test])\n",
    "\n",
    "# Plot actual vs predicted values for training set\n",
    "plt.figure(figsize=(10, 6))\n",
    "plt.plot(train_dates[seq_length:], y_train[0], label='Actual')\n",
    "plt.plot(train_dates[seq_length:], train_predict[:,0], label='Predicted')\n",
    "plt.title('Actual vs Predicted Headcount for Training Set')\n",
    "plt.xlabel('Date')\n",
    "plt.ylabel('Headcount')\n",
    "plt.legend()\n",
    "plt.show()\n",
    "\n",
    "# Plot actual vs predicted values for testing set\n",
    "plt.figure(figsize=(10, 6))\n",
    "plt.plot(test_dates[seq_length:], y_test[0], label='Actual')\n",
    "plt.plot(test_dates[seq_length:], test_predict[:,0], label='Predicted')\n",
    "plt.title('Actual vs Predicted Headcount for Testing Set')\n",
    "plt.xlabel('Date')\n",
    "plt.ylabel('Headcount')\n",
    "plt.legend()\n",
    "plt.show()\n"
   ]
  },
  {
   "cell_type": "markdown",
   "metadata": {
    "id": "ct0srKf8PMUc"
   },
   "source": [
    "# demand"
   ]
  },
  {
   "cell_type": "code",
   "execution_count": 8,
   "metadata": {
    "id": "pHdW3H0FSDYo"
   },
   "outputs": [],
   "source": [
    "import pandas as pd\n",
    "\n",
    "# Load the dataset\n",
    "df = pd.read_csv('C:\\\\Users\\Ramya\\OneDrive\\Desktop\\dataset.csv')\n",
    "\n",
    "# Preprocess the data\n",
    "df = df[['Facility Code', 'Begin Date', 'Headcount']] # Select relevant features\n",
    "df['Begin Date'] = pd.to_datetime(df['Begin Date']) # Convert Begin Date to datetime\n",
    "\n",
    "# Aggregate Headcount by Facility Code and Begin Date\n",
    "df = df.groupby(['Facility Code', 'Begin Date'])['Headcount'].sum().reset_index()\n",
    "\n",
    "# Add a new column to calculate total demand for each facility on each day\n",
    "df['Total Demand'] = df.groupby(['Begin Date'])['Headcount'].transform('sum')\n",
    "\n",
    "# Set Facility Code and Begin Date as index\n",
    "df.set_index(['Facility Code', 'Begin Date'], inplace=True)\n",
    "\n",
    "# Calculate the maximum demand for each facility on each day\n",
    "max_demand = df.groupby(['Facility Code', 'Begin Date'])['Headcount'].max().reset_index()\n"
   ]
  },
  {
   "cell_type": "code",
   "execution_count": 9,
   "metadata": {
    "colab": {
     "base_uri": "https://localhost:8080/",
     "height": 468
    },
    "id": "zDst3vn_59lN",
    "outputId": "d7210dcc-548b-42c2-cc42-1968eac9dfe8"
   },
   "outputs": [
    {
     "data": {
      "text/html": [
       "<div>\n",
       "<style scoped>\n",
       "    .dataframe tbody tr th:only-of-type {\n",
       "        vertical-align: middle;\n",
       "    }\n",
       "\n",
       "    .dataframe tbody tr th {\n",
       "        vertical-align: top;\n",
       "    }\n",
       "\n",
       "    .dataframe thead th {\n",
       "        text-align: right;\n",
       "    }\n",
       "</style>\n",
       "<table border=\"1\" class=\"dataframe\">\n",
       "  <thead>\n",
       "    <tr style=\"text-align: right;\">\n",
       "      <th></th>\n",
       "      <th>Facility Code</th>\n",
       "      <th>Begin Date</th>\n",
       "      <th>Headcount</th>\n",
       "    </tr>\n",
       "  </thead>\n",
       "  <tbody>\n",
       "    <tr>\n",
       "      <th>0</th>\n",
       "      <td>ART</td>\n",
       "      <td>2013-01-15</td>\n",
       "      <td>0</td>\n",
       "    </tr>\n",
       "    <tr>\n",
       "      <th>1</th>\n",
       "      <td>ART</td>\n",
       "      <td>2013-01-22</td>\n",
       "      <td>0</td>\n",
       "    </tr>\n",
       "    <tr>\n",
       "      <th>2</th>\n",
       "      <td>ART</td>\n",
       "      <td>2013-01-24</td>\n",
       "      <td>0</td>\n",
       "    </tr>\n",
       "    <tr>\n",
       "      <th>3</th>\n",
       "      <td>ART</td>\n",
       "      <td>2013-01-29</td>\n",
       "      <td>0</td>\n",
       "    </tr>\n",
       "    <tr>\n",
       "      <th>4</th>\n",
       "      <td>ART</td>\n",
       "      <td>2013-01-31</td>\n",
       "      <td>0</td>\n",
       "    </tr>\n",
       "    <tr>\n",
       "      <th>...</th>\n",
       "      <td>...</td>\n",
       "      <td>...</td>\n",
       "      <td>...</td>\n",
       "    </tr>\n",
       "    <tr>\n",
       "      <th>68042</th>\n",
       "      <td>WR</td>\n",
       "      <td>2014-12-03</td>\n",
       "      <td>0</td>\n",
       "    </tr>\n",
       "    <tr>\n",
       "      <th>68043</th>\n",
       "      <td>WR</td>\n",
       "      <td>2014-12-05</td>\n",
       "      <td>0</td>\n",
       "    </tr>\n",
       "    <tr>\n",
       "      <th>68044</th>\n",
       "      <td>WR</td>\n",
       "      <td>2014-12-08</td>\n",
       "      <td>0</td>\n",
       "    </tr>\n",
       "    <tr>\n",
       "      <th>68045</th>\n",
       "      <td>WR</td>\n",
       "      <td>2014-12-10</td>\n",
       "      <td>0</td>\n",
       "    </tr>\n",
       "    <tr>\n",
       "      <th>68046</th>\n",
       "      <td>WR</td>\n",
       "      <td>2014-12-12</td>\n",
       "      <td>0</td>\n",
       "    </tr>\n",
       "  </tbody>\n",
       "</table>\n",
       "<p>68047 rows × 3 columns</p>\n",
       "</div>"
      ],
      "text/plain": [
       "      Facility Code Begin Date  Headcount\n",
       "0               ART 2013-01-15          0\n",
       "1               ART 2013-01-22          0\n",
       "2               ART 2013-01-24          0\n",
       "3               ART 2013-01-29          0\n",
       "4               ART 2013-01-31          0\n",
       "...             ...        ...        ...\n",
       "68042            WR 2014-12-03          0\n",
       "68043            WR 2014-12-05          0\n",
       "68044            WR 2014-12-08          0\n",
       "68045            WR 2014-12-10          0\n",
       "68046            WR 2014-12-12          0\n",
       "\n",
       "[68047 rows x 3 columns]"
      ]
     },
     "execution_count": 9,
     "metadata": {},
     "output_type": "execute_result"
    }
   ],
   "source": [
    "max_demand"
   ]
  },
  {
   "cell_type": "code",
   "execution_count": 10,
   "metadata": {
    "colab": {
     "base_uri": "https://localhost:8080/"
    },
    "id": "TQopoY3156zf",
    "outputId": "3ef6b25e-98c9-4242-a314-bc10265ae741"
   },
   "outputs": [
    {
     "name": "stdout",
     "output_type": "stream",
     "text": [
      "Demand cannot be accommodated by a single facility on some days\n"
     ]
    }
   ],
   "source": [
    "\n",
    "# Check if any days have demand that exceeds the capacity of a single facility\n",
    "if max_demand['Headcount'].max() > 1:\n",
    "    print('Demand cannot be accommodated by a single facility on some days')\n",
    "    # Add an 'Exceed' column and set it to 0 for days where demand exceeds capacity\n",
    "    max_demand.loc[max_demand['Headcount'] > 1, 'Exceed'] = 0\n",
    "    # Set 'Exceed' to 1 for days where demand does not exceed capacity\n",
    "    max_demand.loc[max_demand['Headcount'] <= 1, 'Exceed'] = 1\n",
    "else:\n",
    "    print('Demand can be accommodated by a single facility on all days')\n",
    "    # Add an 'Exceed' column and set it to 1 for all days\n",
    "    max_demand['Exceed'] = 1"
   ]
  },
  {
   "cell_type": "code",
   "execution_count": 11,
   "metadata": {
    "colab": {
     "base_uri": "https://localhost:8080/"
    },
    "id": "fbpeNJujUne2",
    "outputId": "610fadee-bb74-49e2-f2d8-dab80ede460d"
   },
   "outputs": [
    {
     "name": "stdout",
     "output_type": "stream",
     "text": [
      "  Facility Code Begin Date  Headcount  Exceed\n",
      "0           ART 2013-01-15          0     1.0\n",
      "1           ART 2013-01-22          0     1.0\n",
      "2           ART 2013-01-24          0     1.0\n",
      "3           ART 2013-01-29          0     1.0\n",
      "4           ART 2013-01-31          0     1.0\n"
     ]
    }
   ],
   "source": [
    "# Display the resulting dataframe\n",
    "print(max_demand.head())"
   ]
  },
  {
   "cell_type": "code",
   "execution_count": 12,
   "metadata": {
    "colab": {
     "base_uri": "https://localhost:8080/"
    },
    "id": "nlBDe0-rT7U2",
    "outputId": "5983a4bc-ee02-414d-8ce4-cb575960535a"
   },
   "outputs": [
    {
     "name": "stdout",
     "output_type": "stream",
     "text": [
      "Percentage of days where demand exceeds capacity: 56.33%\n"
     ]
    }
   ],
   "source": [
    "# Calculate the percentage of days where demand exceeds capacity\n",
    "exceed_pct = (max_demand['Exceed'] == 0).sum() / len(max_demand) * 100\n",
    "print(f\"Percentage of days where demand exceeds capacity: {exceed_pct:.2f}%\")"
   ]
  },
  {
   "cell_type": "code",
   "execution_count": 14,
   "metadata": {
    "colab": {
     "base_uri": "https://localhost:8080/"
    },
    "id": "FnF7-OItJSpc",
    "outputId": "421206b8-d618-4821-b86c-4a54fd607ae5"
   },
   "outputs": [
    {
     "name": "stdout",
     "output_type": "stream",
     "text": [
      "Demand can be accommodated by a single facility on all days\n",
      "      Facility Code Begin Date  Demand  Exceed\n",
      "0               ART 2013-01-15       1       1\n",
      "1               ART 2013-01-22       1       1\n",
      "2               ART 2013-01-24       1       1\n",
      "3               ART 2013-01-29       1       1\n",
      "4               ART 2013-01-31       1       1\n",
      "...             ...        ...     ...     ...\n",
      "68042            WR 2014-12-03       1       1\n",
      "68043            WR 2014-12-05       1       1\n",
      "68044            WR 2014-12-08       1       1\n",
      "68045            WR 2014-12-10       1       1\n",
      "68046            WR 2014-12-12       1       1\n",
      "\n",
      "[68047 rows x 4 columns]\n"
     ]
    }
   ],
   "source": [
    "import pandas as pd\n",
    "\n",
    "# Load the dataset\n",
    "df = pd.read_csv('C:\\\\Users\\Ramya\\OneDrive\\Desktop\\dataset.csv')\n",
    "\n",
    "# Preprocess the data\n",
    "df = df[['Facility Code', 'Begin Date']] # Select relevant features\n",
    "df['Begin Date'] = pd.to_datetime(df['Begin Date']) # Convert Begin Date to datetime\n",
    "\n",
    "# Add a new column to represent demand on each day\n",
    "df['Demand'] = 1\n",
    "\n",
    "# Drop duplicate bookings on the same day for the same facility\n",
    "#df = df.drop_duplicates(subset=['Facility Code', 'Begin Date'], keep='first')\n",
    "\n",
    "# Group by Begin Date and calculate total demand for each day\n",
    "total_demand = df.groupby('Begin Date')['Demand'].sum().reset_index()\n",
    "\n",
    "# Group by Facility Code and Begin Date, and calculate maximum demand for each day\n",
    "max_demand = df.groupby(['Facility Code', 'Begin Date'])['Demand'].max().reset_index()\n",
    "\n",
    "# Merge total demand with max demand to get a table of demand and capacity for each facility on each day\n",
    "demand_vs_capacity = pd.merge(total_demand, max_demand, on='Begin Date')\n",
    "demand_vs_capacity = demand_vs_capacity.rename(columns={'Demand': 'Total Demand', 'Facility Code': 'Facility'})\n",
    "\n",
    "# Check if any days have demand that exceeds the capacity of a single facility\n",
    "if max_demand['Demand'].max() > 1:\n",
    "    print('Demand cannot be accommodated by a single facility on some days')\n",
    "    # Add an 'Exceed' column and set it to 0 for days where demand exceeds capacity\n",
    "    max_demand.loc[max_demand['Demand'] > 1, 'Exceed'] = 0\n",
    "    # Set 'Exceed' to 1 for days where demand does not exceed capacity\n",
    "    max_demand.loc[max_demand['Demand'] <= 1, 'Exceed'] = 1\n",
    "else:\n",
    "    print('Demand can be accommodated by a single facility on all days')\n",
    "    # Add an 'Exceed' column and set it to 1 for all days\n",
    "    max_demand['Exceed'] = 1\n",
    "\n",
    "# Display the demand and capacity for each facility on each day, and whether demand exceeds capacity\n",
    "demand_vs_capacity\n",
    "print(max_demand)\n"
   ]
  },
  {
   "cell_type": "code",
   "execution_count": 15,
   "metadata": {
    "colab": {
     "base_uri": "https://localhost:8080/",
     "height": 485
    },
    "id": "X0fBP3p7JqY9",
    "outputId": "118116e7-e632-424f-edfb-142ba6274122"
   },
   "outputs": [
    {
     "data": {
      "text/html": [
       "<div>\n",
       "<style scoped>\n",
       "    .dataframe tbody tr th:only-of-type {\n",
       "        vertical-align: middle;\n",
       "    }\n",
       "\n",
       "    .dataframe tbody tr th {\n",
       "        vertical-align: top;\n",
       "    }\n",
       "\n",
       "    .dataframe thead th {\n",
       "        text-align: right;\n",
       "    }\n",
       "</style>\n",
       "<table border=\"1\" class=\"dataframe\">\n",
       "  <thead>\n",
       "    <tr style=\"text-align: right;\">\n",
       "      <th></th>\n",
       "      <th>Begin Date</th>\n",
       "      <th>Demand_x</th>\n",
       "      <th>Facility</th>\n",
       "      <th>Demand_y</th>\n",
       "    </tr>\n",
       "  </thead>\n",
       "  <tbody>\n",
       "    <tr>\n",
       "      <th>0</th>\n",
       "      <td>2013-01-01</td>\n",
       "      <td>1</td>\n",
       "      <td>ELGYM</td>\n",
       "      <td>1</td>\n",
       "    </tr>\n",
       "    <tr>\n",
       "      <th>1</th>\n",
       "      <td>2013-01-02</td>\n",
       "      <td>7</td>\n",
       "      <td>CBGYM</td>\n",
       "      <td>1</td>\n",
       "    </tr>\n",
       "    <tr>\n",
       "      <th>2</th>\n",
       "      <td>2013-01-02</td>\n",
       "      <td>7</td>\n",
       "      <td>CMRM</td>\n",
       "      <td>1</td>\n",
       "    </tr>\n",
       "    <tr>\n",
       "      <th>3</th>\n",
       "      <td>2013-01-02</td>\n",
       "      <td>7</td>\n",
       "      <td>ELGYM</td>\n",
       "      <td>1</td>\n",
       "    </tr>\n",
       "    <tr>\n",
       "      <th>4</th>\n",
       "      <td>2013-01-02</td>\n",
       "      <td>7</td>\n",
       "      <td>HPGYM</td>\n",
       "      <td>1</td>\n",
       "    </tr>\n",
       "    <tr>\n",
       "      <th>...</th>\n",
       "      <td>...</td>\n",
       "      <td>...</td>\n",
       "      <td>...</td>\n",
       "      <td>...</td>\n",
       "    </tr>\n",
       "    <tr>\n",
       "      <th>68042</th>\n",
       "      <td>2022-12-31</td>\n",
       "      <td>20</td>\n",
       "      <td>CRT1</td>\n",
       "      <td>1</td>\n",
       "    </tr>\n",
       "    <tr>\n",
       "      <th>68043</th>\n",
       "      <td>2022-12-31</td>\n",
       "      <td>20</td>\n",
       "      <td>EF</td>\n",
       "      <td>1</td>\n",
       "    </tr>\n",
       "    <tr>\n",
       "      <th>68044</th>\n",
       "      <td>2022-12-31</td>\n",
       "      <td>20</td>\n",
       "      <td>GYRM</td>\n",
       "      <td>1</td>\n",
       "    </tr>\n",
       "    <tr>\n",
       "      <th>68045</th>\n",
       "      <td>2022-12-31</td>\n",
       "      <td>20</td>\n",
       "      <td>HPCEF</td>\n",
       "      <td>1</td>\n",
       "    </tr>\n",
       "    <tr>\n",
       "      <th>68046</th>\n",
       "      <td>2022-12-31</td>\n",
       "      <td>20</td>\n",
       "      <td>RCP</td>\n",
       "      <td>1</td>\n",
       "    </tr>\n",
       "  </tbody>\n",
       "</table>\n",
       "<p>68047 rows × 4 columns</p>\n",
       "</div>"
      ],
      "text/plain": [
       "      Begin Date  Demand_x Facility  Demand_y\n",
       "0     2013-01-01         1    ELGYM         1\n",
       "1     2013-01-02         7    CBGYM         1\n",
       "2     2013-01-02         7     CMRM         1\n",
       "3     2013-01-02         7    ELGYM         1\n",
       "4     2013-01-02         7    HPGYM         1\n",
       "...          ...       ...      ...       ...\n",
       "68042 2022-12-31        20     CRT1         1\n",
       "68043 2022-12-31        20       EF         1\n",
       "68044 2022-12-31        20     GYRM         1\n",
       "68045 2022-12-31        20    HPCEF         1\n",
       "68046 2022-12-31        20      RCP         1\n",
       "\n",
       "[68047 rows x 4 columns]"
      ]
     },
     "execution_count": 15,
     "metadata": {},
     "output_type": "execute_result"
    }
   ],
   "source": [
    "demand_vs_capacity"
   ]
  },
  {
   "cell_type": "code",
   "execution_count": null,
   "metadata": {
    "colab": {
     "base_uri": "https://localhost:8080/",
     "height": 843
    },
    "id": "zgytqZM-VyLo",
    "outputId": "036d5aea-2957-4ee6-b611-fbcd3b1c6fa4"
   },
   "outputs": [],
   "source": [
    "\n"
   ]
  },
  {
   "cell_type": "code",
   "execution_count": null,
   "metadata": {
    "id": "ob2AtqqBPpos"
   },
   "outputs": [],
   "source": []
  },
  {
   "cell_type": "code",
   "execution_count": null,
   "metadata": {
    "colab": {
     "base_uri": "https://localhost:8080/",
     "height": 228
    },
    "id": "OJpLUrbsPsrC",
    "outputId": "c11b226a-a647-4580-f35a-2c6e070c8340"
   },
   "outputs": [],
   "source": []
  },
  {
   "cell_type": "code",
   "execution_count": null,
   "metadata": {
    "colab": {
     "base_uri": "https://localhost:8080/",
     "height": 513
    },
    "id": "9Z-3M5GFHT11",
    "outputId": "b3bd1f17-0af2-40fd-9569-2601db5d5f6a"
   },
   "outputs": [],
   "source": []
  },
  {
   "cell_type": "code",
   "execution_count": null,
   "metadata": {
    "colab": {
     "base_uri": "https://localhost:8080/",
     "height": 448
    },
    "id": "EZi9hoY5OOE6",
    "outputId": "3b3a2b70-8f4f-4fb4-a44b-88a9eba47067"
   },
   "outputs": [],
   "source": []
  },
  {
   "cell_type": "code",
   "execution_count": null,
   "metadata": {
    "id": "CjujCzLNzEAD"
   },
   "outputs": [],
   "source": []
  }
 ],
 "metadata": {
  "colab": {
   "provenance": []
  },
  "kernelspec": {
   "display_name": "Python 3 (ipykernel)",
   "language": "python",
   "name": "python3"
  },
  "language_info": {
   "codemirror_mode": {
    "name": "ipython",
    "version": 3
   },
   "file_extension": ".py",
   "mimetype": "text/x-python",
   "name": "python",
   "nbconvert_exporter": "python",
   "pygments_lexer": "ipython3",
   "version": "3.9.7"
  }
 },
 "nbformat": 4,
 "nbformat_minor": 1
}
